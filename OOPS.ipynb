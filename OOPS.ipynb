{
 "cells": [
  {
   "cell_type": "code",
   "execution_count": 1,
   "metadata": {},
   "outputs": [
    {
     "name": "stdout",
     "output_type": "stream",
     "text": [
      "Bird chirps\n",
      "Cat meows\n"
     ]
    }
   ],
   "source": [
    "class Bird:\n",
    "    def sound(self):\n",
    "        print(\"Bird chirps\")\n",
    "\n",
    "class Cat:\n",
    "    def sound(self):\n",
    "        print(\"Cat meows\")\n",
    "\n",
    "a1=Bird()\n",
    "a1.sound()\n",
    "s2=Cat()\n",
    "s2.sound()\n"
   ]
  },
  {
   "cell_type": "code",
   "execution_count": 1,
   "metadata": {},
   "outputs": [
    {
     "name": "stdout",
     "output_type": "stream",
     "text": [
      "Bird chirps\n",
      "Cat meows\n"
     ]
    }
   ],
   "source": [
    "class Bird:\n",
    "    def sound(self):\n",
    "        print(\"Bird chirps\")\n",
    "class Cat:\n",
    "    def sound(self):\n",
    "        print(\"Cat meows\")\n",
    "s1=Bird()\n",
    "s1.sound()\n",
    "s2=Cat()\n",
    "s2.sound()"
   ]
  },
  {
   "cell_type": "code",
   "execution_count": null,
   "metadata": {},
   "outputs": [
    {
     "name": "stdout",
     "output_type": "stream",
     "text": [
      "Animal speaks\n",
      "Dog barks\n"
     ]
    }
   ],
   "source": [
    "class Animal: #Inheritance: Mechanism to create a new class from an existing class(reuse and extend functionally)\n",
    "    def sounds(self):\n",
    "        print(\"Animal speaks\")\n",
    "class Dog(Animal):\n",
    "    def speaks(self):\n",
    "        print(\"Dog barks\")\n",
    "\n",
    "dog=Dog()\n",
    "dog.sounds()\n",
    "dog.speaks()"
   ]
  },
  {
   "cell_type": "code",
   "execution_count": 4,
   "metadata": {},
   "outputs": [
    {
     "name": "stdout",
     "output_type": "stream",
     "text": [
      "Car horns sweet\n",
      "Motorbike horns more sweetly\n"
     ]
    }
   ],
   "source": [
    "class Car:\n",
    "    def sound(self):\n",
    "        print(\"Car horns sweet\")\n",
    "class Motorbike(Car):\n",
    "    def produce(self):\n",
    "        print(\"Motorbike horns more sweetly\")\n",
    "s1=Car()\n",
    "s1.sound()\n",
    "e1=Motorbike()\n",
    "e1.produce()"
   ]
  },
  {
   "cell_type": "code",
   "execution_count": 6,
   "metadata": {},
   "outputs": [
    {
     "name": "stdout",
     "output_type": "stream",
     "text": [
      "Has 4 members\n",
      "has 2 sons\n"
     ]
    }
   ],
   "source": [
    "class Family:\n",
    "    def member(self):\n",
    "        print(\"Has 4 members\")\n",
    "class Fam:\n",
    "    def son(self):\n",
    "        print(\"has 2 sons\")\n",
    "w1=Family()\n",
    "w1.member()\n",
    "x1=Fam()\n",
    "x1.son()\n",
    "\n"
   ]
  },
  {
   "cell_type": "code",
   "execution_count": null,
   "metadata": {},
   "outputs": [
    {
     "name": "stdout",
     "output_type": "stream",
     "text": [
      "Bibek's salary is 999999999.\n"
     ]
    }
   ],
   "source": [
    "#Incapsulation\n",
    "#setter and getter method\n",
    "class Employee:\n",
    "    Bank_name=\"NIC ASIA\"\n",
    "    def __init__(self,name):\n",
    "        self.name=name\n",
    "        self.__salary=0\n",
    "\n",
    "    def set_salary(self,salary):\n",
    "        if salary>0:\n",
    "            self.__salary= salary\n",
    "        else:\n",
    "            print(\"Salary must be positive!\")\n",
    "\n",
    "    def get_salary(self):\n",
    "        return self.__salary\n",
    "    \n",
    "employee =Employee(\"Bibek\")\n",
    "employee.set_salary(999999999)\n",
    "print(f\"{employee.name}'s salary is {employee.get_salary()}.\")"
   ]
  },
  {
   "cell_type": "code",
   "execution_count": 12,
   "metadata": {},
   "outputs": [
    {
     "name": "stdout",
     "output_type": "stream",
     "text": [
      "Addition: 15\n",
      "Substraction: 5\n",
      "Multiplication: 50\n",
      "Division: 2.0\n"
     ]
    }
   ],
   "source": [
    "#CALCULATOR\n",
    "class Calculator:\n",
    "    def add(self,a,b):\n",
    "        return a+b\n",
    "    def substract(self,a,b):\n",
    "        return a-b\n",
    "    def multiply(self,a,b):\n",
    "        return a*b\n",
    "    def divide(self,a,b):\n",
    "        if b!=0:\n",
    "            return a/b\n",
    "        else:\n",
    "            return \"Cannot divide by zero\"\n",
    "calc= Calculator()\n",
    "print(\"Addition:\", calc.add(10,5))\n",
    "print(\"Substraction:\", calc.substract(10,5))\n",
    "print(\"Multiplication:\", calc.multiply(10,5))\n",
    "print(\"Division:\", calc.divide(10,5))\n",
    "    "
   ]
  },
  {
   "cell_type": "code",
   "execution_count": null,
   "metadata": {},
   "outputs": [
    {
     "name": "stdout",
     "output_type": "stream",
     "text": [
      "Runtime Error: division by zero\n"
     ]
    }
   ],
   "source": [
    "try:\n",
    "    result=10/0 \n",
    "except Exception as e: #Exception defines what error has occured.\n",
    "    print(f\"Runtime Error: {e}\")"
   ]
  },
  {
   "cell_type": "code",
   "execution_count": 2,
   "metadata": {},
   "outputs": [
    {
     "name": "stdout",
     "output_type": "stream",
     "text": [
      "Dog barks\n",
      "Cat meows\n",
      "Bird chirps\n"
     ]
    }
   ],
   "source": [
    "class Dog:\n",
    "    def sound(self):\n",
    "        print(\"Dog barks\")\n",
    "class Cat:\n",
    "    def sound(self):\n",
    "        print(\"Cat meows\")\n",
    "class Bird:\n",
    "    def sound(self):\n",
    "        print(\"Bird chirps\")\n",
    "a1=Dog()\n",
    "a1.sound()\n",
    "b1=Cat()\n",
    "b1.sound()\n",
    "c1=Bird()\n",
    "c1.sound()\n"
   ]
  },
  {
   "cell_type": "code",
   "execution_count": 4,
   "metadata": {},
   "outputs": [
    {
     "name": "stdout",
     "output_type": "stream",
     "text": [
      "Animal Speaks\n",
      "Dog barks\n"
     ]
    }
   ],
   "source": [
    "class Animal:\n",
    "    def sound(self):\n",
    "        print(\"Animal Speaks\")\n",
    "class Dog(Animal):\n",
    "    def sound(self):\n",
    "        print(\"Dog barks\")\n",
    "x1=Animal()\n",
    "x1.sound()\n",
    "y1=Dog()\n",
    "y1.sound()"
   ]
  },
  {
   "cell_type": "code",
   "execution_count": 6,
   "metadata": {},
   "outputs": [
    {
     "name": "stdout",
     "output_type": "stream",
     "text": [
      "Your balance is 1000 and your bank account is 710\n"
     ]
    }
   ],
   "source": [
    "class Account:\n",
    "    def __init__(self,balance,account_no):\n",
    "        self.balance=balance\n",
    "        self.account_no=account_no\n",
    "        print(f\"Your balance is {self.balance} and your bank account is {self.account_no}\")\n",
    "f1=Account(1000,710)\n",
    "#f1.account_class()"
   ]
  },
  {
   "cell_type": "code",
   "execution_count": 14,
   "metadata": {},
   "outputs": [
    {
     "name": "stdout",
     "output_type": "stream",
     "text": [
      "Rs. 1000 was debitted\n",
      "total balance=  9000\n",
      "Rs. 500 was credited\n",
      "total balance=  9500\n"
     ]
    }
   ],
   "source": [
    "class Account:\n",
    "    def __init__(self,bal,acc):\n",
    "        self.balance=bal\n",
    "        self.account=acc\n",
    "\n",
    "        #debit card\n",
    "    def debit(self,amount):\n",
    "        self.balance-=amount\n",
    "        print(\"Rs.\", amount, \"was debitted\")\n",
    "        print(\"total balance= \",self.get_balance())\n",
    "\n",
    "        #credit method\n",
    "    def credit(self,amount):\n",
    "        self.balance += amount\n",
    "        print(\"Rs.\", amount, \"was credited\")\n",
    "        print(\"total balance= \",self.get_balance())\n",
    "\n",
    "    def get_balance(self):\n",
    "        return self.balance\n",
    "acc1=Account(10000, 12345)\n",
    "acc1.debit(1000)\n",
    "acc1.credit(500)"
   ]
  },
  {
   "cell_type": "code",
   "execution_count": 4,
   "metadata": {},
   "outputs": [
    {
     "name": "stdout",
     "output_type": "stream",
     "text": [
      "Name of student : Puja Manandhar\n",
      "Roll number : 1\n",
      "Address : BKT, Sudal\n",
      "Class : 12\n"
     ]
    }
   ],
   "source": [
    "class Student:\n",
    "    def __init__(self):\n",
    "        self.Name=input(\"Enter a name of student: \")\n",
    "        self.Roll_no=int(input(\"Enter a number: \"))\n",
    "        self.Address=input(\"Enter a Address: \")\n",
    "        self.Class=int(input(\"Enter a class in no:\"))\n",
    "    def display(self):\n",
    "        print(f\"Name of student : {self.Name}\")\n",
    "        print(f\"Roll number : {self.Roll_no}\")\n",
    "        print(f\"Address : {self.Address}\")\n",
    "        print(f\"Class : {self.Class}\")\n",
    "std2=Student()\n",
    "std2.display()"
   ]
  },
  {
   "cell_type": "code",
   "execution_count": 8,
   "metadata": {},
   "outputs": [
    {
     "name": "stdout",
     "output_type": "stream",
     "text": [
      "Puja 19\n",
      "Bibek Not Provided\n"
     ]
    }
   ],
   "source": [
    "class Student:\n",
    "    def __init__(self,name,age=None):\n",
    "        self.name=name\n",
    "        self.age=age if age is not None else \"Not Provided\"\n",
    "student1=Student(\"Puja\",19)\n",
    "student2=Student(\"Bibek\")\n",
    "print(student1.name, student1.age)\n",
    "print(student2.name, student2.age)\n",
    "\n"
   ]
  },
  {
   "cell_type": "code",
   "execution_count": 10,
   "metadata": {},
   "outputs": [
    {
     "name": "stdout",
     "output_type": "stream",
     "text": [
      "Heloo from <__main__.Simple object at 0x00000237B8B45CA0>\n"
     ]
    }
   ],
   "source": [
    "class Simple:\n",
    "    def __init__(self):\n",
    "        print(f\"Heloo from {self}\")\n",
    "cls1=Simple()\n"
   ]
  },
  {
   "cell_type": "markdown",
   "metadata": {},
   "source": [
    "Write a class Student with attributes name and roll_number. Add a method display() to print the details of the student."
   ]
  },
  {
   "cell_type": "code",
   "execution_count": 12,
   "metadata": {},
   "outputs": [
    {
     "name": "stdout",
     "output_type": "stream",
     "text": [
      "Details of the Student\n",
      "Name : Bibek Ale\n",
      "Roll_number : 1\n"
     ]
    }
   ],
   "source": [
    "class Student:\n",
    "    def __init__(self,name,roll_number):\n",
    "        self.name=name\n",
    "        self.roll_number=roll_number\n",
    "    def display(self):\n",
    "        print(\"Details of the Student\")\n",
    "        print(f\"Name : {self.name}\")\n",
    "        print(f\"Roll_number : {self.roll_number}\")\n",
    "std1=Student(\"Bibek Ale\", 1)\n",
    "std1.display()"
   ]
  },
  {
   "cell_type": "markdown",
   "metadata": {},
   "source": [
    "Create a class Employee with a private attribute _salary. Provide methods to set and get the salary value"
   ]
  },
  {
   "cell_type": "code",
   "execution_count": 20,
   "metadata": {},
   "outputs": [
    {
     "name": "stdout",
     "output_type": "stream",
     "text": [
      "Bibek Ale's salary is 10000.\n"
     ]
    }
   ],
   "source": [
    "class Employee:\n",
    "    def __init__(self, name):\n",
    "        self.name=name\n",
    "        self._salary=0\n",
    "    def set_salary(self,salary):\n",
    "        if salary>0:\n",
    "            self._salary=salary\n",
    "        else:\n",
    "            print(\"Salary must be positive!\")\n",
    "    def get_salary(self):\n",
    "        return self._salary\n",
    "employ1=Employee(\"Bibek Ale\")\n",
    "employ1.set_salary(10000)\n",
    "employ1.get_salary()\n",
    "print(f\"{employ1.name}'s salary is {employ1.get_salary()}.\")\n"
   ]
  },
  {
   "cell_type": "code",
   "execution_count": 21,
   "metadata": {},
   "outputs": [],
   "source": [
    "class MyClass:\n",
    "    def __init__(self):\n",
    "        self.__private_var = 20  # Private variable\n",
    "\n",
    "    def __private_method(self):\n",
    "        print(\"This is a private method.\")\n",
    "\n",
    "    def public_method(self):\n",
    "        print(\"This is a public method.\")\n",
    "        self.__private_method()  # Private method can be called inside the public method\n",
    "        print(self.__private_var)"
   ]
  },
  {
   "cell_type": "code",
   "execution_count": 4,
   "metadata": {},
   "outputs": [
    {
     "name": "stdout",
     "output_type": "stream",
     "text": [
      "My name is Bibek Ale\n",
      "Roll no: 7\n",
      "Address: Dhading\n"
     ]
    }
   ],
   "source": [
    "class Student:\n",
    "    def put(self,name,roll_no,address):\n",
    "        self.name=name\n",
    "        self.roll=roll_no\n",
    "        self.address=address\n",
    "    def display(self):\n",
    "        print(f\"My name is {self.name}\")\n",
    "        print(f\"Roll no: {self.roll}\")\n",
    "        print(f\"Address: {self.address}\")\n",
    "s1=Student()\n",
    "s1.put(\"Bibek Ale\", 7, \"Dhading\")\n",
    "s1.display()\n"
   ]
  },
  {
   "cell_type": "code",
   "execution_count": 19,
   "metadata": {},
   "outputs": [
    {
     "name": "stdout",
     "output_type": "stream",
     "text": [
      "Animal speaks\n",
      "Dog barks\n"
     ]
    }
   ],
   "source": [
    "\n",
    "class Animal: #Inheritance\n",
    "    def sound(self):\n",
    "        print(\"Animal speaks\")\n",
    "class Dog(Animal):\n",
    "    def sound(self):\n",
    "        print(\"Dog barks\")\n",
    "a1=Animal()\n",
    "a1.sound()\n",
    "d1=Dog()\n",
    "d1.sound()"
   ]
  },
  {
   "cell_type": "code",
   "execution_count": 26,
   "metadata": {},
   "outputs": [
    {
     "name": "stdout",
     "output_type": "stream",
     "text": [
      "Lamborgini produces loud noise\n",
      "Bicycle produces a small horn\n"
     ]
    }
   ],
   "source": [
    "class Car: #Polymorphism\n",
    "    def sound(self):\n",
    "        print(\"Lamborgini produces loud noise\")\n",
    "class Bicycle:\n",
    "    def sound(self):\n",
    "        print(\"Bicycle produces a small horn\")\n",
    "c1=Car()\n",
    "c1.sound()\n",
    "b1=Bicycle()\n",
    "b1.sound()"
   ]
  },
  {
   "cell_type": "code",
   "execution_count": null,
   "metadata": {},
   "outputs": [],
   "source": []
  }
 ],
 "metadata": {
  "kernelspec": {
   "display_name": "Python 3",
   "language": "python",
   "name": "python3"
  },
  "language_info": {
   "codemirror_mode": {
    "name": "ipython",
    "version": 3
   },
   "file_extension": ".py",
   "mimetype": "text/x-python",
   "name": "python",
   "nbconvert_exporter": "python",
   "pygments_lexer": "ipython3",
   "version": "3.12.3"
  }
 },
 "nbformat": 4,
 "nbformat_minor": 2
}
