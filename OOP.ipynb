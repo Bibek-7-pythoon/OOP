{
 "cells": [
  {
   "cell_type": "code",
   "execution_count": null,
   "metadata": {},
   "outputs": [],
   "source": [
    "#What is OOP? It's principles\n",
    "#CLass=attribute+function\n",
    "create object to print"
   ]
  },
  {
   "cell_type": "code",
   "execution_count": 1,
   "metadata": {},
   "outputs": [
    {
     "name": "stdout",
     "output_type": "stream",
     "text": [
      "10\n"
     ]
    },
    {
     "data": {
      "text/plain": [
       "20"
      ]
     },
     "execution_count": 1,
     "metadata": {},
     "output_type": "execute_result"
    }
   ],
   "source": [
    "class num:\n",
    "    x=20 #attribute optional \n",
    "    def display(self):\n",
    "        print(10)\n",
    "num1=num()\n",
    "num1.display()\n",
    "num1.x\n"
   ]
  },
  {
   "cell_type": "code",
   "execution_count": 3,
   "metadata": {},
   "outputs": [
    {
     "name": "stdout",
     "output_type": "stream",
     "text": [
      "name:Bibek Ale\n",
      "age:19\n"
     ]
    }
   ],
   "source": [
    "class student:\n",
    "    name=\"Bibek Ale\"\n",
    "    age=19\n",
    "    def display(self):\n",
    "        print(f\"name:{self.name}\")\n",
    "        print(f\"age:{self.age}\")\n",
    "std1=student()\n",
    "std1.display()\n"
   ]
  },
  {
   "cell_type": "code",
   "execution_count": null,
   "metadata": {},
   "outputs": [
    {
     "name": "stdout",
     "output_type": "stream",
     "text": [
      "Name is:Bibek\n",
      "Roll no is:7\n",
      "Address is:ktm\n"
     ]
    }
   ],
   "source": [
    "class student: #CONSTRUCTOR\n",
    "    def __init__(self): #double underscore (_+_=__)\n",
    "        self.name=input(\"Enter a name: \")\n",
    "        self.roll=int(input(\"Enter a roll no: \"))\n",
    "        self.address=input(\"Enter a address: \")\n",
    "\n",
    "    def display(self):\n",
    "        print(f\"Name is:{self.name}\")\n",
    "        print(f\"Roll no is:{self.roll}\")\n",
    "        print(f\"Address is:{self.address}\")\n",
    "std1=student()\n",
    "#std1.put()\n",
    "std1.display()\n",
    "\n"
   ]
  },
  {
   "cell_type": "code",
   "execution_count": 9,
   "metadata": {},
   "outputs": [
    {
     "name": "stdout",
     "output_type": "stream",
     "text": [
      "Constructor CALLED!\n",
      "Destroyer called!\n"
     ]
    }
   ],
   "source": [
    "class Example:\n",
    "    def __init__(self,value):\n",
    "        self.value=value\n",
    "        print(\"Constructor CALLED!\")\n",
    "    def __del__(self):\n",
    "        print(\"Destroyer called!\")\n",
    "obj = Example(42)\n",
    "del obj"
   ]
  },
  {
   "cell_type": "code",
   "execution_count": 4,
   "metadata": {},
   "outputs": [
    {
     "name": "stdout",
     "output_type": "stream",
     "text": [
      "Bibek Ale\n"
     ]
    }
   ],
   "source": [
    "class Student:\n",
    "    Name=\"Bibek Ale\"\n",
    "s1=Student()\n",
    "print(s1.Name)"
   ]
  },
  {
   "cell_type": "code",
   "execution_count": null,
   "metadata": {},
   "outputs": [],
   "source": [
    "#constructor=(_init_method)\n",
    "#Destructor=(_del_method)"
   ]
  },
  {
   "cell_type": "code",
   "execution_count": null,
   "metadata": {},
   "outputs": [
    {
     "name": "stdout",
     "output_type": "stream",
     "text": [
      "Hello Bibek!\n"
     ]
    }
   ],
   "source": [
    "class Student:\n",
    "    Name=\"Bibek\"\n",
    "    def __init__(self):\n",
    "        print(\"Hello Bibek!\")\n",
    "s1=Student()"
   ]
  },
  {
   "cell_type": "code",
   "execution_count": 14,
   "metadata": {},
   "outputs": [
    {
     "name": "stdout",
     "output_type": "stream",
     "text": [
      "adding new student in Database\n",
      "Bibek\n"
     ]
    }
   ],
   "source": [
    "class Student:\n",
    "    def __init__(self,fullname):\n",
    "        self.name=fullname\n",
    "        print(\"adding new student in Database\")\n",
    "s1=Student(\"Bibek\")\n",
    "print(s1.name)\n",
    "\n"
   ]
  },
  {
   "cell_type": "code",
   "execution_count": 26,
   "metadata": {},
   "outputs": [
    {
     "name": "stdout",
     "output_type": "stream",
     "text": [
      "adding new car in market\n",
      "Mercidiz = 100M Tesla Company\n",
      "adding new car in market\n",
      "Lucid Gravity = 150M Tesla Company\n"
     ]
    }
   ],
   "source": [
    "class Car:\n",
    "    Company_Name=\"Tesla Company\"\n",
    "    def __init__(self, Carname,price):\n",
    "        self.Car=Carname\n",
    "        self.price=price\n",
    "        print(\"adding new car in market\")\n",
    "c1=Car(\"Mercidiz\",\"= 100M\")\n",
    "print(c1.Car,c1.price,c1.Company_Name)\n",
    "\n",
    "c2=Car(\"Lucid Gravity\",\"= 150M\")\n",
    "print(c2.Car,c2.price,c2.Company_Name)\n"
   ]
  },
  {
   "cell_type": "code",
   "execution_count": 39,
   "metadata": {},
   "outputs": [
    {
     "name": "stdout",
     "output_type": "stream",
     "text": [
      "Welcome Student\n"
     ]
    }
   ],
   "source": [
    "class Students:\n",
    "    def __init__(self,name,marks):\n",
    "        self.name=name\n",
    "        self.marks=marks\n",
    "    def welcome(self):\n",
    "        print(\"Welcome Student\")\n",
    "        \n",
    "a1= Students(\"Bibek\",98)\n",
    "a1.welcome()\n",
    "\n"
   ]
  },
  {
   "cell_type": "code",
   "execution_count": 55,
   "metadata": {},
   "outputs": [
    {
     "name": "stdout",
     "output_type": "stream",
     "text": [
      "Masters\n",
      "25\n"
     ]
    }
   ],
   "source": [
    "class Teacher:\n",
    "    Qualification=\"Masters\"\n",
    "    Age=25\n",
    "c1=Teacher()\n",
    "print(c1.Qualification)\n",
    "print(c1.Age)"
   ]
  },
  {
   "cell_type": "code",
   "execution_count": 1,
   "metadata": {},
   "outputs": [
    {
     "name": "stdout",
     "output_type": "stream",
     "text": [
      "IF slot is available then you will be called\n"
     ]
    }
   ],
   "source": [
    "name=input(\"Enter your name: \")\n",
    "Qualification=input(\"Enter your Qualification: Bachelor degree or Master degree \") #Job vacancy\n",
    "age=input(\"Enter your age: \")\n",
    "def teacher(name,Qualification,age):\n",
    "    if Qualification == \"Master degree\":\n",
    "        print(\"You are listed for an appointment\")\n",
    "    elif Qualification== \"Bachelor degree\":\n",
    "        print(\"IF slot is available then you will be called\")\n",
    "    else:\n",
    "        print(\"Sorry ! You are not qualified for a post\")\n",
    "teacher(name,Qualification,age)"
   ]
  },
  {
   "cell_type": "code",
   "execution_count": 59,
   "metadata": {},
   "outputs": [],
   "source": [
    "name=input(\"Enter your name: \")\n",
    "Qualification=input(f\"Enter your qualification: Bachelor degree or Master degree\") #Job vacancy\n",
    "age=input(\"Enter your age: \")\n"
   ]
  },
  {
   "cell_type": "code",
   "execution_count": 4,
   "metadata": {},
   "outputs": [
    {
     "name": "stdout",
     "output_type": "stream",
     "text": [
      "My name is Bibek Ale\n",
      "My age is 19\n"
     ]
    }
   ],
   "source": [
    "class Student:\n",
    "    name=\"Bibek Ale\"\n",
    "    age=19\n",
    "s1=Student()\n",
    "print(f\"My name is {s1.name}\")\n",
    "print(f\"My age is {s1.age}\")\n"
   ]
  },
  {
   "cell_type": "code",
   "execution_count": null,
   "metadata": {},
   "outputs": [],
   "source": [
    "class Student:\n",
    "    def __init__(self):\n",
    "            print(\"Hello Puja!\")\n",
    "a1=Student()\n"
   ]
  },
  {
   "cell_type": "code",
   "execution_count": 8,
   "metadata": {},
   "outputs": [],
   "source": [
    "class Student:\n",
    "    def __del__(self):\n",
    "        print(\"Hlo, User!\")\n",
    "b1=Student()"
   ]
  },
  {
   "cell_type": "code",
   "execution_count": 22,
   "metadata": {},
   "outputs": [
    {
     "name": "stdout",
     "output_type": "stream",
     "text": [
      "Adding new car in a market\n",
      "Name = Mercidez\n",
      "price = 100M\n",
      "Tesla Company\n"
     ]
    }
   ],
   "source": [
    "class Cars:\n",
    "    company_name=\"Tesla Company\"\n",
    "    def __init__(self,name,price):\n",
    "        self.name=name\n",
    "        self.price=price\n",
    "        print(\"Adding new car in a market\")\n",
    "s5=Cars(\"Name = Mercidez\" ,\"price = 100M\")\n",
    "print(s5.name)\n",
    "print(s5.price)\n",
    "print(s5.company_name)"
   ]
  },
  {
   "cell_type": "code",
   "execution_count": 37,
   "metadata": {},
   "outputs": [
    {
     "name": "stdout",
     "output_type": "stream",
     "text": [
      "Welcome student Bibek\n",
      "99\n"
     ]
    }
   ],
   "source": [
    "class Student:\n",
    "    college_name=\"Nami College\"\n",
    "    def __init__(self,name,marks):\n",
    "        self.name=name\n",
    "        self.marks=marks\n",
    "    def welcome(self):\n",
    "        print(\"Welcome student\",self.name)\n",
    "\n",
    "    def get_marks(self):\n",
    "        print(self.marks)\n",
    "    \n",
    "s1=Student(\"Bibek\",99)\n",
    "s1.welcome()\n",
    "s1.get_marks()"
   ]
  },
  {
   "cell_type": "code",
   "execution_count": 39,
   "metadata": {},
   "outputs": [
    {
     "name": "stdout",
     "output_type": "stream",
     "text": [
      "Welcome Customer! Bullet\n"
     ]
    },
    {
     "data": {
      "text/plain": [
       "'Hero Honda'"
      ]
     },
     "execution_count": 39,
     "metadata": {},
     "output_type": "execute_result"
    }
   ],
   "source": [
    "class Motorbikes:\n",
    "    def __init__(self,name,price):\n",
    "        self.name=name\n",
    "        self.price=price\n",
    "    def welcome(self):\n",
    "        print(\"Welcome Customer!\",self.name)\n",
    "    def get_honda(self):\n",
    "        return self.price\n",
    "s1=Motorbikes(\"Bullet\",\"Hero Honda\")\n",
    "s1.welcome()\n",
    "s1.get_honda()"
   ]
  },
  {
   "cell_type": "code",
   "execution_count": 66,
   "metadata": {},
   "outputs": [
    {
     "name": "stdout",
     "output_type": "stream",
     "text": [
      "Hi your average score is 97.67\n",
      "Bibek [99, 98, 96]\n"
     ]
    },
    {
     "ename": "TypeError",
     "evalue": "Student.avg_of_3() missing 2 required positional arguments: 'b' and 'c'",
     "output_type": "error",
     "traceback": [
      "\u001b[1;31m---------------------------------------------------------------------------\u001b[0m",
      "\u001b[1;31mTypeError\u001b[0m                                 Traceback (most recent call last)",
      "Cell \u001b[1;32mIn[66], line 11\u001b[0m\n\u001b[0;32m      9\u001b[0m s1\u001b[38;5;241m=\u001b[39mStudent(\u001b[38;5;124m\"\u001b[39m\u001b[38;5;124mBibek\u001b[39m\u001b[38;5;124m\"\u001b[39m,[\u001b[38;5;241m99\u001b[39m,\u001b[38;5;241m98\u001b[39m,\u001b[38;5;241m96\u001b[39m])\n\u001b[0;32m     10\u001b[0m \u001b[38;5;28mprint\u001b[39m(s1\u001b[38;5;241m.\u001b[39mname,s1\u001b[38;5;241m.\u001b[39mmarks)\n\u001b[1;32m---> 11\u001b[0m \u001b[43ms1\u001b[49m\u001b[38;5;241;43m.\u001b[39;49m\u001b[43mavg_of_3\u001b[49m\u001b[43m(\u001b[49m\u001b[43m)\u001b[49m\n",
      "\u001b[1;31mTypeError\u001b[0m: Student.avg_of_3() missing 2 required positional arguments: 'b' and 'c'"
     ]
    }
   ],
   "source": [
    "class Student:\n",
    "    def __init__(self,name,marks):\n",
    "        self.name=name\n",
    "        self.marks=marks\n",
    "    def avg_of_3(a,b,c):\n",
    "        avg=(a+b+c)/3\n",
    "        print(f\"Hi your average score is {avg:.2f}\")\n",
    "    avg_of_3(99,98,96)\n",
    "s1=Student(\"Bibek\",[99,98,96])\n",
    "print(s1.name,s1.marks)\n",
    "s1.avg_of_3()\n"
   ]
  },
  {
   "cell_type": "code",
   "execution_count": 67,
   "metadata": {},
   "outputs": [
    {
     "name": "stdout",
     "output_type": "stream",
     "text": [
      "hi Bibek Ale Your avg score is: 33.0\n",
      "hi Bibek Ale Your avg score is: 65.0\n",
      "hi Bibek Ale Your avg score is: 97.66666666666667\n"
     ]
    }
   ],
   "source": [
    "class Student:\n",
    "    def __init__(self,name,marks):\n",
    "        self.name=name\n",
    "        self.marks=marks\n",
    "    def get_avg(self):\n",
    "        sum=0\n",
    "        for val in self.marks:\n",
    "            sum+=val\n",
    "            print(\"hi\",self.name,\"Your avg score is:\",sum/3)\n",
    "s1=Student(\"Bibek Ale\",[99,96,98])\n",
    "s1.get_avg()"
   ]
  },
  {
   "cell_type": "code",
   "execution_count": null,
   "metadata": {},
   "outputs": [
    {
     "name": "stdout",
     "output_type": "stream",
     "text": [
      "Welcome student PAM\n"
     ]
    },
    {
     "data": {
      "text/plain": [
       "'A+'"
      ]
     },
     "execution_count": 76,
     "metadata": {},
     "output_type": "execute_result"
    }
   ],
   "source": [
    "class Student:\n",
    "    def __init__(self,name,marks,GPA):\n",
    "        self.name=name\n",
    "        self.marks=marks\n",
    "        self.GPA=GPA\n",
    "    def welcome(self): #In method we call functions to print\n",
    "        print(\"Welcome student\",self.name)\n",
    "    def get_marks(self):                   \n",
    "        return self.marks\n",
    "    def your_GPA(self):\n",
    "        return self.GPA\n",
    "s1=Student(\"PAM\",[99,100,96],\"A+\")\n",
    "s1.welcome()\n",
    "s1.get_marks()\n",
    "s1.your_GPA()\n"
   ]
  },
  {
   "cell_type": "code",
   "execution_count": 81,
   "metadata": {},
   "outputs": [
    {
     "name": "stdout",
     "output_type": "stream",
     "text": [
      "Your avg score of 3 subject is: 98.0\n"
     ]
    },
    {
     "ename": "TypeError",
     "evalue": "Student.avg_of_3() missing 2 required positional arguments: 'b' and 'c'",
     "output_type": "error",
     "traceback": [
      "\u001b[1;31m---------------------------------------------------------------------------\u001b[0m",
      "\u001b[1;31mTypeError\u001b[0m                                 Traceback (most recent call last)",
      "Cell \u001b[1;32mIn[81], line 13\u001b[0m\n\u001b[0;32m     11\u001b[0m     avg_of_3(\u001b[38;5;241m99\u001b[39m,\u001b[38;5;241m98\u001b[39m,\u001b[38;5;241m97\u001b[39m)\n\u001b[0;32m     12\u001b[0m s1\u001b[38;5;241m=\u001b[39mStudent(\u001b[38;5;124m\"\u001b[39m\u001b[38;5;124mBibek\u001b[39m\u001b[38;5;124m\"\u001b[39m,\u001b[38;5;124m\"\u001b[39m\u001b[38;5;124mmarks\u001b[39m\u001b[38;5;124m\"\u001b[39m,\u001b[38;5;124m\"\u001b[39m\u001b[38;5;124mGPA\u001b[39m\u001b[38;5;124m\"\u001b[39m)\n\u001b[1;32m---> 13\u001b[0m \u001b[43ms1\u001b[49m\u001b[38;5;241;43m.\u001b[39;49m\u001b[43mavg_of_3\u001b[49m\u001b[43m(\u001b[49m\u001b[43m)\u001b[49m\n",
      "\u001b[1;31mTypeError\u001b[0m: Student.avg_of_3() missing 2 required positional arguments: 'b' and 'c'"
     ]
    }
   ],
   "source": [
    "class Student:\n",
    "    def __init__(self,name,marks,GPA):\n",
    "        self.name=name\n",
    "        self.marks=marks\n",
    "        marks=99,98,97\n",
    "        self.GPA=GPA\n",
    "        GPA=\"A+\"\n",
    "    def avg_of_3(a,b,c):\n",
    "        avg=(a+b+c)/3\n",
    "        print(f\"Your avg score of 3 subject is: {avg}\")\n",
    "    avg_of_3(99,98,97)\n",
    "s1=Student(\"Bibek\",\"marks\",\"GPA\")\n",
    "s1.avg_of_3()\n",
    "\n"
   ]
  },
  {
   "cell_type": "code",
   "execution_count": 93,
   "metadata": {},
   "outputs": [
    {
     "name": "stdout",
     "output_type": "stream",
     "text": [
      "Your avg score of 3 subject is: 96.33\n",
      "Bibek Ale\n",
      "99,92,98\n",
      "A+\n",
      "<bound method Student.avg_of_3 of <__main__.Student object at 0x0000028B28CC18E0>>\n"
     ]
    }
   ],
   "source": [
    "class Student:\n",
    "    def __init__(self,name=\"Bibek Ale\",marks=\"99,92,98\",GPA=\"A+\"):\n",
    "        self.name=name\n",
    "        self.marks=marks\n",
    "        self.GPA=GPA\n",
    "    def avg_of_3(a,b,c):\n",
    "        avg=(a+b+c)/3\n",
    "        print(f\"Your avg score of 3 subject is: {avg:.2f}\")\n",
    "    avg_of_3(99,92,98)\n",
    "s1=Student()\n",
    "print(s1.name)\n",
    "print(s1.marks)\n",
    "print(s1.GPA)\n",
    "print(s1.avg_of_3)\n",
    "\n",
    "    "
   ]
  },
  {
   "cell_type": "code",
   "execution_count": 1,
   "metadata": {},
   "outputs": [
    {
     "name": "stdout",
     "output_type": "stream",
     "text": [
      "Hlo World\n"
     ]
    }
   ],
   "source": [
    "class Student:\n",
    "    def name(self):\n",
    "        print(\"Hlo World\")\n",
    "c1=Student()\n",
    "c1.name()"
   ]
  },
  {
   "cell_type": "code",
   "execution_count": null,
   "metadata": {},
   "outputs": [],
   "source": []
  }
 ],
 "metadata": {
  "kernelspec": {
   "display_name": "Python 3",
   "language": "python",
   "name": "python3"
  },
  "language_info": {
   "codemirror_mode": {
    "name": "ipython",
    "version": 3
   },
   "file_extension": ".py",
   "mimetype": "text/x-python",
   "name": "python",
   "nbconvert_exporter": "python",
   "pygments_lexer": "ipython3",
   "version": "3.12.3"
  }
 },
 "nbformat": 4,
 "nbformat_minor": 2
}
